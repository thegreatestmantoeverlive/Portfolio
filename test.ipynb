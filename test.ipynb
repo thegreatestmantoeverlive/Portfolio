{
 "cells": [
  {
   "cell_type": "code",
   "execution_count": 3,
   "metadata": {},
   "outputs": [
    {
     "name": "stdout",
     "output_type": "stream",
     "text": [
      "r\n",
      "ri\n",
      "riv\n",
      "rive\n",
      "river\n"
     ]
    }
   ],
   "source": [
    "str = 'river'\n",
    "\n",
    "for i in range(1, len(str) + 1):\n",
    "    print(str[0:i])"
   ]
  },
  {
   "cell_type": "markdown",
   "metadata": {},
   "source": [
    "```plaintext\n",
    "##### 1. Adding an Attribute\n",
    "\n",
    "```\n",
    "ALTER TABLE <table_name> ADD <attribute_name> <DATATYPE>;\n",
    "```\n",
    "*Example:* \n",
    "```\n",
    "ALTER TABLE GUARDIAN ADD income INT;\n",
    "```\n",
    "\n",
    "##### 2. Modifying Data Type of an Attribute\n",
    "\n",
    "```\n",
    "ALTER TABLE <table_name> MODIFY <attribute_name> <DATATYPE>;\n",
    "```\n",
    "*Example:* \n",
    "```\n",
    "ALTER TABLE GUARDIAN MODIFY GAddress VARCHAR(40);\n",
    "```\n",
    "\n",
    "##### 3. Modifying Constraint of an Attribute\n",
    "\n",
    "```\n",
    "ALTER TABLE <table_name> MODIFY <attribute_name> <DATATYPE> NOT NULL;\n",
    "```\n",
    "*Example:* \n",
    "```\n",
    "ALTER TABLE STUDENT MODIFY SName VARCHAR(20) NOT NULL;\n",
    "```\n",
    "\n",
    "##### 4. Adding Default Value to an Attribute\n",
    "\n",
    "```\n",
    "ALTER TABLE <table_name> MODIFY <attribute_name> <DATATYPE> DEFAULT <default_value>;\n",
    "```\n",
    "*Example:* \n",
    "```\n",
    "ALTER TABLE STUDENT MODIFY SDateofBirth DATE DEFAULT '2000-05-15';\n",
    "```\n",
    "\n",
    "##### 5. Removing an Attribute\n",
    "\n",
    "```\n",
    "ALTER TABLE <table_name> DROP <attribute_name>;\n",
    "```\n",
    "*Example:* \n",
    "```\n",
    "ALTER TABLE GUARDIAN DROP income;\n",
    "```\n",
    "\n",
    "##### 6. Removing Primary Key\n",
    "\n",
    "```\n",
    "ALTER TABLE <table_name> DROP PRIMARY KEY;\n",
    "```\n",
    "*Example:* \n",
    "```\n",
    "ALTER TABLE GUARDIAN DROP PRIMARY KEY;\n",
    "```\n",
    "\n",
    "##### 7. Minimum and Maximum Values for INT\n",
    "\n",
    "- **Minimum Value:** -2,147,483,648\n",
    "- **Maximum Value:** 2,147,483,647\n",
    "```"
   ]
  },
  {
   "cell_type": "code",
   "execution_count": null,
   "metadata": {},
   "outputs": [],
   "source": []
  },
  {
   "cell_type": "code",
   "execution_count": 7,
   "metadata": {},
   "outputs": [
    {
     "name": "stdout",
     "output_type": "stream",
     "text": [
      "{'brand': 'Tata', 'model': 'Alto', 'year': 1969}\n",
      "dict_keys(['brand', 'model', 'year'])\n",
      "dict_values(['Tata', 'Alto', 1969])\n",
      "1969\n",
      "('year', 1969)\n"
     ]
    }
   ],
   "source": [
    "thisdict = {\n",
    "    'brand' : \"Tata\",\n",
    "    'model' : \"Alto\",\n",
    "    'year' : 1969\n",
    "}\n",
    "\n",
    "print(thisdict)\n",
    "print(thisdict.keys())\n",
    "print(thisdict.values())\n",
    "print(thisdict.get(\"year\"))\n",
    "\n",
    "thisdict['model'] = \"matu vandi\"\n",
    "\n",
    "print(thisdict.popitem())\n",
    "# print(thisdict"
   ]
  }
 ],
 "metadata": {
  "kernelspec": {
   "display_name": "Python 3",
   "language": "python",
   "name": "python3"
  },
  "language_info": {
   "codemirror_mode": {
    "name": "ipython",
    "version": 3
   },
   "file_extension": ".py",
   "mimetype": "text/x-python",
   "name": "python",
   "nbconvert_exporter": "python",
   "pygments_lexer": "ipython3",
   "version": "3.10.13"
  }
 },
 "nbformat": 4,
 "nbformat_minor": 2
}
