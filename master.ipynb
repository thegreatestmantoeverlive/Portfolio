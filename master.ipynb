{
  "cells": [
    {
      "cell_type": "markdown",
      "metadata": {},
      "source": [
        "# Basic Stuff\n",
        "\n",
        "## Mutable and Immutable Data types \n",
        "### Mutable (Memory location can change )\n",
        "- List -> [ 1, 2, 3]\n",
        "- Set -> {2 , 3 }\n",
        "- Dict \n"
      ]
    },
    {
      "cell_type": "markdown",
      "metadata": {},
      "source": [
        "## Misc Stuff\n",
        "a -> \n",
        "/ -> always returns float datatype \n",
        "\n",
        "str[start:stop:step]"
      ]
    },
    {
      "cell_type": "markdown",
      "metadata": {
        "trusted": true
      },
      "source": [
        "# File handling\n",
        "\n",
        "- r: open an existing file for a read operation.\n",
        "- w: open an existing file for a write operation. If the file already contains some data, then it will be overridden but if the file is not present then it creates the file as well.\n",
        "- a:  open an existing file for append operation. It won’t override existing data.\n",
        "- r+:  To read and write data into the file. This mode does not override the existing data, but you can modify the data starting from the beginning of the file.\n",
        "- w+: To write and read data. It overwrites the previous file if one exists, it will truncate the file to zero length or create a file if it does not exist.\n",
        "- a+: To append and read data from the file. It won’t override existing data.\n"
      ]
    },
    {
      "cell_type": "code",
      "execution_count": 1,
      "metadata": {
        "trusted": true
      },
      "outputs": [
        {
          "name": "stdout",
          "output_type": "stream",
          "text": [
            "[' \\n', '    Test sample string\\n', '    ']\n",
            "abcd\n",
            "[1, 2, 3, 4, 5, 6]\n"
          ]
        }
      ],
      "source": [
        "file = 'test'\n",
        "testStr = \"abcd\"\n",
        "testArr = [1, 2, 3, 4, 5,6]\n",
        "\n",
        "# writing file\n",
        "print(\"Writing files\")\n",
        "with open(file , 'w+') as filedata:\n",
        "    contents = filedata.write(''' \n",
        "    Test sample string\n",
        "    ''')\n",
        "\n",
        "    filedata.close()\n",
        "\n",
        "with open(file , 'r') as filedata:\n",
        "    print(\" Test sample data written : \" , filedata.readlines ())\n",
        "    print(filedata.name)\n",
        "    print(filedata.mode)\n",
        "    print(filedata.closed)\n",
        "    filedata.close()\n",
        "\n",
        "# Reading from file\n",
        "with open(file, 'r') as filedata:\n",
        "    filedata.read(10) # read 10 characters / bytes\n",
        "    filedata.readLine(10) # reads 10 characters / byte but stops before if newline is present\n",
        "    \n",
        "    \n",
        "\n",
        "byteFile = open('samplebytes' , 'wb+')\n",
        "byteArrFile = open(\"sampleArrBytes\" , \"wb+\")\n",
        "\n",
        "import pickle\n",
        "\n",
        "# Writing serialized data with pickle using 'wb+'\n",
        "with open('samplebytes', 'wb+') as byteFile:\n",
        "    pickle.dump(testStr, byteFile)\n",
        "\n",
        "# Writing another serialized object\n",
        "with open(\"sampleArrBytes\", 'wb+') as byteArrFile:\n",
        "    pickle.dump(testArr, byteArrFile)\n",
        "\n",
        "# Reading serialized data from 'wb+' files\n",
        "with open('samplebytes', 'rb') as byteFile:\n",
        "    deserializedStr = pickle.load(byteFile)\n",
        "    print(deserializedStr)\n",
        "\n",
        "with open(\"sampleArrBytes\", 'rb') as byteArrFile:\n",
        "    deserializedArr = pickle.load(byteArrFile)\n",
        "    print(deserializedArr)\n"
      ]
    },
    {
      "cell_type": "code",
      "execution_count": null,
      "metadata": {},
      "outputs": [],
      "source": [
        "while(condition):\n",
        "    <statements>\n",
        "else :\n",
        "    <states that will execute once while loop ends>\n",
        "\n",
        "while(condition):\n",
        "    break\n",
        "else:\n",
        "    print(\"this wont execute\")\n",
        "\n",
        "range is a datatype wtf"
      ]
    },
    {
      "cell_type": "markdown",
      "metadata": {},
      "source": [
        "# SQL"
      ]
    },
    {
      "cell_type": "markdown",
      "metadata": {},
      "source": [
        "| Data type    | Description                                                                                       |\n",
        "|---------------|---------------------------------------------------------------------------------------------------|\n",
        "| CHAR(n) | n -> [0,255] . If string less than n char, the remaining is filled iwth spaces |\n",
        "| VARCHAR(n) | n -> [0,65535] . String wont be filled with empty spaces |\n",
        "| INT | 4 bytes. value => [0, 4,294,967,295] |\n",
        "| FLOAT| 4 bytes |\n",
        "| DATE | in \"YYYY-DD-MM\" format. value => ['1000-01-01' to '9999-12-31']"
      ]
    },
    {
      "cell_type": "markdown",
      "metadata": {},
      "source": [
        "| Constraint    | Description                                                                                       |\n",
        "|---------------|---------------------------------------------------------------------------------------------------|\n",
        "| NOT NULL      | Ensures that a column cannot have NULL values, indicating a missing/unknown/not applicable value. |\n",
        "| UNIQUE        | Ensures that all the values in a column are distinct/unique.                                     |\n",
        "| DEFAULT       | A default value specified for the column if no value is provided.                                |\n",
        "| PRIMARY KEY   | The column which can uniquely identify each row/record in a table.                               |\n",
        "| FOREIGN KEY   | The column which refers to the value of an attribute defined as a primary key in another table.  |"
      ]
    },
    {
      "cell_type": "markdown",
      "metadata": {},
      "source": [
        "| Function                                    | Description                        |\n",
        "|---------------------------------------------|------------------------------------|\n",
        "| UCASE(string) / UPPER(string)               | Converts to uppercase.            |\n",
        "| LOWER(string) / LCASE(string)               | Converts to lowercase.            |\n",
        "| MID(string, pos, n) / SUBSTRING(string, pos, n) / SUBSTR(string, pos, n) | Extracts substring.               |\n",
        "| LENGTH(string)                              | Gets string length.               |\n",
        "| LEFT(string, N)                             | Returns leftmost N characters.    |\n",
        "| RIGHT(string, N)                            | Returns rightmost N characters.   |\n",
        "| INSTR(string, substring)                    | **RETURNS (index + 1) 0 if not found**         |\n",
        "| LTRIM(string)                               | Removes leading whitespace.        |\n",
        "| RTRIM(string)                               | Removes trailing whitespace.       |\n",
        "| TRIM(string)                                | Removes both leading and trailing whitespace. |\n"
      ]
    },
    {
      "cell_type": "markdown",
      "metadata": {},
      "source": [
        "| Function         | Example                           | Output             |\n",
        "|------------------|-----------------------------------|--------------------|\n",
        "| NOW()            | SELECT NOW();                     | 2019-07-11 19:41:17|\n",
        "| DATE()           | SELECT DATE(NOW());               | 2019-07-11         |\n",
        "| MONTH(date)     | SELECT MONTH(NOW());              | 7                  |\n",
        "| MONTHNAME(date)  | SELECT MONTHNAME(\"2003-11-28\");  | November           |\n",
        "| YEAR(date)      | SELECT YEAR(\"2003-10-03\");       | 2003               |\n",
        "| DAY(date)       | SELECT DAY(\"2003-03-24\");        | 24   ie(date)              |\n",
        "| DAYNAME(date)   | SELECT DAYNAME(\"2019-07-11\");    | Thursday           |\n",
        "\n",
        "> Note that you gotta do DATE(NOW()) to get just like in js"
      ]
    },
    {
      "cell_type": "markdown",
      "metadata": {},
      "source": [
        "| Function      | Description                         |\n",
        "|---------------|-------------------------------------|\n",
        "| MAX(column)   | Returns the largest value.          |\n",
        "| MIN(column)   | Returns the smallest value.         |\n",
        "| AVG(column)   | Returns the average of values.      |\n",
        "| SUM(column)   | Returns the total sum of values.    |\n",
        "| COUNT(*)      | Returns the **total number of records**.|\n",
        "| COUNT(column) | Counts **non-NULL values** in a column. |\n"
      ]
    },
    {
      "cell_type": "markdown",
      "metadata": {},
      "source": [
        "## List of Snippets\n",
        "\n",
        "#### CREATE\n",
        "```\n",
        "mysql> CREATE TABLE STUDENT(\n",
        " -> RollNumber INT UNIQUE NOT NULL PRIMARY KEY,\n",
        " -> SName VARCHAR(20),\n",
        " -> SDateofBirth DATE,\n",
        " -> GUID CHAR (12),\n",
        " -> PRIMARY KEY (RollNumber));\n",
        "Query OK, 0 rows affected (0.91 sec)\n",
        "```\n",
        "\n",
        "#### ALTER\n",
        "\n",
        "##### 1. Adding Primary key \n",
        "\n",
        "```\n",
        "ALTER TABLE <table name> ADD PRIMARY KEY <attribute name>\n",
        "```\n",
        "\n",
        "##### 2. Adding Foreign Key\n",
        "\n",
        "```mysql\n",
        "ALTER TABLE <table name> \n",
        "    ADD FOREIGN KEY <attribute name>\n",
        "    REFERENCES <another table>(attribute from that that table)\n",
        "\n",
        "ie ALTER TABLE STUDENT\n",
        " -> ADD FOREIGN KEY(GUID) REFERENCES\n",
        " -> GUARDIAN(GUID);\n",
        "```\n",
        "\n",
        "##### 3. Adding UNIQUE\n",
        "\n",
        "```\n",
        "ALTER TABLE table_name ADD UNIQUE (attribute\n",
        "name);\n",
        "```\n",
        "\n",
        "##### 4. Adding attribute\n",
        "\n",
        "```\n",
        "ALTER TABLE table_name ADD <attributename> DATATYPE CONSTRAINTS\n",
        "```\n",
        "\n",
        "eg :- to be added with constraints\n",
        "\n",
        "##### 5. Modify Datatype\n",
        "```\n",
        "ALTER TABLE table_name MODIFY attribute DATATYPE \n",
        "```\n",
        "##### 6. Modify Constraint \n",
        "```\n",
        "ALTER TABLE table_name MODIFY attribute DATATYPE <ADD CONSTRAINT>\n",
        "```\n",
        "##### 7. Add default Value\n",
        "```\n",
        "ALTER TABLE table_name MODIFY attribute DATATYPE\n",
        "DEFAULT default_value;\n",
        "```\n",
        "##### 8. Removing attribute\n",
        "```\n",
        "ALTER TABLE table_name DROP attribute\n",
        "```\n",
        "##### 9> \n",
        "```\n",
        "ALTER TABLE table_name DROP PRIMARY KEY;\n",
        "```\n"
      ]
    },
    {
      "cell_type": "markdown",
      "metadata": {},
      "source": [
        "### Minor doubts\n",
        "- in the ADD of ALTER TABLE, we can define the constraint before the attribute name for \"PRIMARY KEY, FOREIGN KEY AND UNIQUE ALONE??\"\""
      ]
    }
  ],
  "metadata": {
    "kernelspec": {
      "display_name": "Python (Pyodide)",
      "language": "python",
      "name": "python"
    },
    "language_info": {
      "codemirror_mode": {
        "name": "python",
        "version": 3
      },
      "file_extension": ".py",
      "mimetype": "text/x-python",
      "name": "python",
      "nbconvert_exporter": "python",
      "pygments_lexer": "ipython3",
      "version": "3.8"
    }
  },
  "nbformat": 4,
  "nbformat_minor": 4
}
