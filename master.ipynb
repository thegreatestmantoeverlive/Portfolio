{
  "cells": [
    {
      "cell_type": "code",
      "execution_count": null,
      "metadata": {},
      "outputs": [],
      "source": [
        "# Basic Stuff\n",
        "\n",
        "## Mutable and Immutable Data types \n",
        "### Mutable (Memory location can change )\n",
        "- List -> [ 1, 2, 3]\n",
        "- Set -> {2 , 3 }\n",
        "- Dict \n"
      ]
    },
    {
      "cell_type": "code",
      "execution_count": null,
      "metadata": {
        "trusted": true
      },
      "outputs": [],
      "source": [
        "# File handling\n",
        "\n",
        "# r: open an existing file for a read operation.\n",
        "# w: open an existing file for a write operation. If the file already contains some data, then it will be overridden but if the file is not present then it creates the file as well.\n",
        "# a:  open an existing file for append operation. It won’t override existing data.\n",
        "# r+:  To read and write data into the file. This mode does not override the existing data, but you can modify the data starting from the beginning of the file.\n",
        "# w+: To write and read data. It overwrites the previous file if one exists, it will truncate the file to zero length or create a file if it does not exist.\n",
        "# a+: To append and read data from the file. It won’t override existing data.\n"
      ]
    },
    {
      "cell_type": "code",
      "execution_count": 1,
      "metadata": {
        "trusted": true
      },
      "outputs": [
        {
          "name": "stdout",
          "output_type": "stream",
          "text": [
            "[' \\n', '    Test sample string\\n', '    ']\n",
            "abcd\n",
            "[1, 2, 3, 4, 5, 6]\n"
          ]
        }
      ],
      "source": [
        "file = 'test'\n",
        "testStr = \"abcd\"\n",
        "testArr = [1, 2, 3, 4, 5,6]\n",
        "\n",
        "# writing file\n",
        "print(\"Writing files\")\n",
        "with open(file , 'w+') as filedata:\n",
        "    contents = filedata.write(''' \n",
        "    Test sample string\n",
        "    ''')\n",
        "\n",
        "    filedata.close()\n",
        "\n",
        "with open(file , 'r') as filedata:\n",
        "    print(\" Test sample data written : \" , filedata.readlines ())\n",
        "    print(filedata.name)\n",
        "    print(filedata.mode)\n",
        "    print(filedata.closed)\n",
        "    filedata.close()\n",
        "\n",
        "# Reading from file\n",
        "with open(file, 'r') as filedata:\n",
        "    filedata.read(10) # read 10 characters / bytes\n",
        "    filedata.readLine(10) # reads 10 characters / byte but stops before if newline is present\n",
        "    \n",
        "    \n",
        "\n",
        "byteFile = open('samplebytes' , 'wb+')\n",
        "byteArrFile = open(\"sampleArrBytes\" , \"wb+\")\n",
        "\n",
        "import pickle\n",
        "\n",
        "# Writing serialized data with pickle using 'wb+'\n",
        "with open('samplebytes', 'wb+') as byteFile:\n",
        "    pickle.dump(testStr, byteFile)\n",
        "\n",
        "# Writing another serialized object\n",
        "with open(\"sampleArrBytes\", 'wb+') as byteArrFile:\n",
        "    pickle.dump(testArr, byteArrFile)\n",
        "\n",
        "# Reading serialized data from 'wb+' files\n",
        "with open('samplebytes', 'rb') as byteFile:\n",
        "    deserializedStr = pickle.load(byteFile)\n",
        "    print(deserializedStr)\n",
        "\n",
        "with open(\"sampleArrBytes\", 'rb') as byteArrFile:\n",
        "    deserializedArr = pickle.load(byteArrFile)\n",
        "    print(deserializedArr)\n"
      ]
    },
    {
      "cell_type": "markdown",
      "metadata": {},
      "source": [
        "# Misc Stuff\n",
        "a -> "
      ]
    },
    {
      "cell_type": "code",
      "execution_count": null,
      "metadata": {},
      "outputs": [],
      "source": [
        "Random links\n",
        "https://drive.google.com/drive/u/0/folders/1lD5Qb_JN1ieMU9GpCaWq3JTvKmp-Iczv\n",
        "https://drive.google.com/drive/u/0/folders/1nCBlFL6WsPyxvAD8g0u7VFxROCPzj4Fx\n",
        "https://shikky.notion.site/Python-Notes-D-eff1f4a7577c4e9a99d755b31502a662\n",
        "https://www.reddit.com/r/CBSE/comments/rks81s/cs_last_minute_notes_only_thing_missing_is_bubble/#lightbox"
      ]
    },
    {
      "cell_type": "markdown",
      "metadata": {},
      "source": []
    }
  ],
  "metadata": {
    "kernelspec": {
      "display_name": "Python (Pyodide)",
      "language": "python",
      "name": "python"
    },
    "language_info": {
      "codemirror_mode": {
        "name": "python",
        "version": 3
      },
      "file_extension": ".py",
      "mimetype": "text/x-python",
      "name": "python",
      "nbconvert_exporter": "python",
      "pygments_lexer": "ipython3",
      "version": "3.8"
    }
  },
  "nbformat": 4,
  "nbformat_minor": 4
}
